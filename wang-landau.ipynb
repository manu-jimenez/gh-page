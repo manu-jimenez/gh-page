{
 "cells": [
  {
   "cell_type": "markdown",
   "metadata": {},
   "source": [
    "# Joint density of states by Wang-Landau multicanonical sampling\n",
    "\n",
    "***\n",
    "\n",
    "In this notebook I provide an implementation of a Wang-Landau algorithm for computing a bivariate joint density of states (DOS) in an integer valued configuration space.\n",
    "\n",
    "I will make use of the Reciprocity Survey (RS) [dataset](http://journals.plos.org/plosone/article/file?type=supplementary&id=info:doi/10.1371/journal.pone.0151588.s002) from:\n",
    "\n",
    "> Almaatouq A, Radaelli L, Pentland A and Shmueli E (2016) *Are You Your Friends’ Friend? Poor Perception of Friendship Ties Limits the Ability to Promote Behavioral Change.* PLOS ONE 11(3): e0151588. doi:10.1371/journal.pone.0151588\n",
    "\n",
    "\n",
    "I will model the dataset with the grand-canonical ensemble from:\n",
    "> [Manuel Jiménez-Martı́n, Javier Rodrı́guez-Laguna and Elka Korutcheva (2017)  *Null models for social hierarchical structure*.](https://arxiv.org/abs/1701.07428)\n",
    "\n",
    "I will sample sample the configuration space with a Wang-Landau algorithm in order to compute the joint density of states in the macrostate space.\n",
    "> Fugao Wang and D. P. Landau (2001) *Efficient, Multiple-Range Random Walk Algorithm to Calculate the Density of States.* Phys. Rev. Lett. 86, 2050."
   ]
  },
  {
   "cell_type": "code",
   "execution_count": 82,
   "metadata": {
    "collapsed": true
   },
   "outputs": [],
   "source": [
    "# NECESSARY IMPORTS\n",
    "import numpy as np\n",
    "import pandas as pd\n",
    "import scipy\n",
    "import random\n",
    "\n",
    "%matplotlib inline\n",
    "import matplotlib as mpl\n",
    "from matplotlib import pyplot as plt"
   ]
  },
  {
   "cell_type": "markdown",
   "metadata": {},
   "source": [
    "## 1- Dataset description and import\n",
    "\n",
    "We have fitted the grand-canonical ensemble to the Reciprocity Survey (RS) dataset. In this experiment, a total of $N = 84$ under-graduate students were asked to score their relationship with each of the other participants in a scale from 0 to 5, where 0 meant no-relationship, and 1 to 5 represented increasing degree of friendship. \n",
    "\n",
    "We have considered the zero weight as a no-link of cost $0$. The remaining layers costs are $[s_5,s_4,s_3,s_2,s_1]=\\{1,2,3,4,5\\}$. Then, each participants ego-network is described by a vector whose elements are the weight of their reported relationship with the other participants (the network is directed). \n",
    "\n",
    "Let us import the dataset, which I have downloaded to my folder ´~/Downloads´. Then, let us extract the corresponding layer configurations and macrostates. "
   ]
  },
  {
   "cell_type": "code",
   "execution_count": 25,
   "metadata": {
    "collapsed": false
   },
   "outputs": [
    {
     "data": {
      "text/html": [
       "<div>\n",
       "<table border=\"1\" class=\"dataframe\">\n",
       "  <thead>\n",
       "    <tr style=\"text-align: right;\">\n",
       "      <th></th>\n",
       "      <th>nominator</th>\n",
       "      <th>nominated</th>\n",
       "      <th>score</th>\n",
       "    </tr>\n",
       "  </thead>\n",
       "  <tbody>\n",
       "    <tr>\n",
       "      <th>0</th>\n",
       "      <td>68</td>\n",
       "      <td>45</td>\n",
       "      <td>2</td>\n",
       "    </tr>\n",
       "    <tr>\n",
       "      <th>1</th>\n",
       "      <td>80</td>\n",
       "      <td>20</td>\n",
       "      <td>0</td>\n",
       "    </tr>\n",
       "    <tr>\n",
       "      <th>2</th>\n",
       "      <td>54</td>\n",
       "      <td>49</td>\n",
       "      <td>0</td>\n",
       "    </tr>\n",
       "    <tr>\n",
       "      <th>3</th>\n",
       "      <td>0</td>\n",
       "      <td>79</td>\n",
       "      <td>4</td>\n",
       "    </tr>\n",
       "    <tr>\n",
       "      <th>4</th>\n",
       "      <td>24</td>\n",
       "      <td>73</td>\n",
       "      <td>1</td>\n",
       "    </tr>\n",
       "  </tbody>\n",
       "</table>\n",
       "</div>"
      ],
      "text/plain": [
       "   nominator  nominated  score\n",
       "0         68         45      2\n",
       "1         80         20      0\n",
       "2         54         49      0\n",
       "3          0         79      4\n",
       "4         24         73      1"
      ]
     },
     "execution_count": 25,
     "metadata": {},
     "output_type": "execute_result"
    }
   ],
   "source": [
    "df = pd.read_csv(open('/home/mjimenez/Downloads/journal.pone.0151588.s002.CSV','r'))\n",
    "df.drop(['expected_score'], axis=1, inplace=True)  # we will only use the reported score\n",
    "df.head()"
   ]
  },
  {
   "cell_type": "markdown",
   "metadata": {},
   "source": [
    "We can distinguish three deacreasingly detailed representations for the ego-networks:\n",
    "\n",
    "- The ego-networks are the **microstates** of the system. Six possible weights and $83$ participants make the number of microstates equal to $6^{83}$. \n",
    "\n",
    "$$\\mathbf{s}_k = [\\omega_1,\\dots,\\omega_{k-1},\\omega_{k+1},\\dots,\\omega_N]\\qquad \\omega_j\\in=[s_5,s_4,s_3,s_2,s_1]$$\n",
    "\n",
    "- The grand-canonical ensemble assigns the same probability to configurations with equal **layer degrees**,\n",
    " $k_r$, that is the number of links of weight $s_r$. Thus, a coarse grained configuration for egonetworks is\n",
    "\n",
    "$$\\{k_r\\}=[k_1, k_2, k_3, k_4, k_5]$$\n",
    "\n",
    "(where k_1 is the number of links of weight $s_1=5$, $k_2$ is the number of links of weight $s_2=4$, etc. Notice that the number of no-links, $k_0$, is not included on the configuration as it can be recovered from $k_0=N-\\sum_r k_r$)\n",
    "\n",
    "- An analogous representation of the layer structure are the accumulated variables, also called **group sizes**:\n",
    "\n",
    "$$\\{n_r\\}=[n_1, n_2, n_3, n_4, n_5] \\qquad\\qquad n_r = \\sum_{l=0}^r k_l$$\n",
    "\n",
    "- Finaly, the **macrostates** of the system are specified by the participants total degree, $k$, and weight $s$.\n",
    "\n",
    "$$k=\\sum_r k_r \\qquad \\qquad s=\\sum_s k_r s_r$$\n"
   ]
  },
  {
   "cell_type": "markdown",
   "metadata": {},
   "source": [
    "### Ego-networks (**microstates**):"
   ]
  },
  {
   "cell_type": "code",
   "execution_count": 58,
   "metadata": {
    "collapsed": false
   },
   "outputs": [
    {
     "name": "stdout",
     "output_type": "stream",
     "text": [
      "Example of ego-network microstate: [0 0 4 1 1 2 4 3 3 5 2 2 1 2 3 0 2 1 1 0 3 0 1 5 0 0 1 4 5 2 1 1 0 1 2 1 4\n",
      " 0 4 1 2 3 2 3 3 1 0 0 1 1 3 0 1 1 1 0 1 4 1 2 0 2 1 0 4 4 0 4 1 3 5 0 1 3\n",
      " 0 2 2 2 4 0 3 3 0]\n"
     ]
    }
   ],
   "source": [
    "participants = set(df.nominator)\n",
    "N = len(participants)\n",
    "egonets = {}\n",
    "\n",
    "for participant in participants:\n",
    "    neighbors = df[df.nominator == participant].nominated.values #loc[:,'nominated']#.loc(:)\n",
    "    weights = df[df.nominator == participant].score.values\n",
    "    egonets[participant] = weights[np.argsort(neighbors)]\n",
    "\n",
    "print('Example of ego-network microstate:', egonets[0])"
   ]
  },
  {
   "cell_type": "markdown",
   "metadata": {},
   "source": [
    "### Layer configurations: layer degrees $k_r$ and layer group sizes $n_r$\n",
    "\n",
    "*(there are 4 links of weight 5, 10 links of weight 4, 12 links of weight 3, etc)*"
   ]
  },
  {
   "cell_type": "code",
   "execution_count": 66,
   "metadata": {
    "collapsed": false
   },
   "outputs": [
    {
     "name": "stdout",
     "output_type": "stream",
     "text": [
      "Example of layer configuration:\t k_r: [  4.  10.  12.  14.  23.] \tn_r: [  4.  14.  26.  40.  63.]\n"
     ]
    }
   ],
   "source": [
    "k_layers = np.zeros((5, N))\n",
    "n_layers = np.zeros((5, N))\n",
    "weight_vec = [5,4,3,2,1]\n",
    "\n",
    "for j in participants:\n",
    "    for i,w in enumerate(weight_vec):\n",
    "        k_layers[i,j] = np.sum(egonets[j] == w)\n",
    "        n_layers[i,j] = np.sum(k_layers[:(i+1),j])\n",
    "\n",
    "print('Example of layer configuration:\\t k_r:', k_layers[:,0], '\\tn_r:', n_layers[:,0])"
   ]
  },
  {
   "cell_type": "markdown",
   "metadata": {},
   "source": [
    "### Macrostates: $(k,s)$"
   ]
  },
  {
   "cell_type": "code",
   "execution_count": 76,
   "metadata": {
    "collapsed": false
   },
   "outputs": [
    {
     "name": "stdout",
     "output_type": "stream",
     "text": [
      "Example of k-s macrostate\tk= 63.0 \ts= 147.0\n"
     ]
    }
   ],
   "source": [
    "k_vec = [np.sum(k_layers[:,i]) for i in range(N)]\n",
    "s_vec = [np.sum(k_layers[:,i] * np.array(weight_vec)) for i in range(N)]\n",
    "\n",
    "print('Example of k-s macrostate\\tk=', k_vec[0], '\\ts=', s_vec[0])"
   ]
  },
  {
   "cell_type": "markdown",
   "metadata": {},
   "source": [
    "## 2- Model description and class definition for Wang-Landau sampling\n",
    "\n",
    "The grand-canonical ensemble for ego-networks is obtained as the Maximum Entropy probability distribution such that its average values $<k>$ and $<s>$ are those observed in the data. Maximizing the entropy, $S=-\\sum_{k_r} D(\\{k_r\\})P(\\{k_r\\}) \\ln [D(\\{k_r\\}) P(\\{k_r\\})]$, subject to the conditions\n",
    "\n",
    "$$\\langle k\\rangle = \\sum_{j=1}^N \\left(\\textstyle\\sum_r k_r^{(j)} \\right) P(\\{k_r\\})  \\qquad\\qquad\n",
    "  \\langle s\\rangle = \\sum_{j=1}^N \\left(\\textstyle\\sum_r s_r k_r^{(j)} \\right) P(\\{k_r\\})$$\n",
    "  \n",
    "plus normalization, $\\sum_{k_r}P(\\{k_r\\})=1$, gives a Gibbs distribution\n",
    "\n",
    "$$  P(\\{k_r\\}) =  \\frac{1}{Z} D(\\{k_r\\}) e^{\\lambda k + \\mu s} , $$\n",
    "\n",
    "where $D(\\{k_r\\}=k!/\\prod_r k_r!$ is the layer configuration degeneracy, that is, the number of different microstates with the same layer degrees $\\{k_r\\}$. \n",
    "\n",
    "***\n",
    "\n",
    "We want compute the **density of states** (DOS) in the macrostate space $k$-$s$ for the grand-canonical ensemble. The Wang-Landau algorithm allows to compute the actual DOS on specific domain, including regions that would be otherwise imposible to sample with a Monte Carlo method. The density of states in the **macrostate** space is\n",
    "\n",
    "$$P(k,s)=\\sum_{\\{k_r\\}} P(\\{k_r\\}) \\textstyle \\delta(k-\\sum_r k_r)\\delta(s-\\sum_r k_r s_r) =\\displaystyle \\frac{1}{Z} \\rho(k,s)e^{\\lambda k + \\mu s} $$\n",
    "\n",
    "Here, $\\rho(k,s)$ is the *zero-temperature* density of states (0-DOS), that is, the total degeneracy of a given macrostate $k$-$s$. The Wang-Landau is a Monte Carlo algorithm that allows us to compute $\\rho(k,s)$ adaptively by sampling the configuration space with probability $1/\\rho(k,s)$. Such a sampling procedure generates a flat histogram in the macrostate space. \n",
    "\n",
    "In practice, we start with a uniform $\\rho_0(k,s)$ and an empty histogram $h(k,s)$. We perform a random walk on the configuration (microstate) space and every iteration we update the 0-DOS and the histogram as follows.\n",
    "\n",
    "$$\\rho_i(k,s) = \\rho_i(k,s) \\cdot f_i$$\n",
    "$$h_i(k,s) = h_i(k,s) + 1$$\n",
    "\n",
    "Where $f$ is a parameter larger than $1$. During the first walk, we perform a long run and define the **valid** domain as those values of $k$-$s$ that have been visited at least once. We then continue the walk, and check whether the histogram is sufficiently **flat** *(for instance, if at least 99% of the **valid** histogram entries are higher than $0.8\\langle h \\rangle$, where $\\langle h \\rangle$ is the histogram average)*.\n",
    "\n",
    "If the histogram is sufficiently flat, we reset it, update the parameter $f$ and start a new walk. The algorithm now should perform finer updates to the 0-DOS. Thus, the parameter $f$ should decrease following a monotonically decreasing mapping such as \n",
    "\n",
    "$$\\rho_{i+1} = \\rho_{i}$$\n",
    "$$h_{i+1} = \\text{const}$$ \n",
    "$$f_{i+1} = \\sqrt{f_i}$$\n",
    "\n",
    "After $n$ rounds, the update parameter should be approximately $1$. For instance, starting at   $f_0=e^1$, after $10$ rounds the update parameter is $f_0^{1/2^{10}}\\approx 1.001$.\n",
    "\n",
    "Finally, we obtain the model's DOS, $P(k,s)$ by reweighting $\\rho(k,s)$ with the Gibbs factor $e^{\\lambda k + \\mu s}/Z$.\n",
    "\n",
    "***\n",
    "\n",
    "Let us englobe the necessary functions for the algorithm on an object: `egonet`"
   ]
  },
  {
   "cell_type": "code",
   "execution_count": 94,
   "metadata": {
    "collapsed": true
   },
   "outputs": [],
   "source": [
    "class egonet(object):\n",
    "    \n",
    "    def __init__(self, N, f=np.exp(1), costs=[0,1,2,3,4,5]):\n",
    "        # INITIALIZATION\n",
    "        # number of actors, layer costs (weights) and number of layers\n",
    "        self.N = N\n",
    "        self.costs = np.array(costs)\n",
    "        self.L = len(self.costs)   # number of layers\n",
    "        # microstate\n",
    "        self.state = np.array([random.choice(self.costs) for _ in range(self.N-1)])  # N-1 links\n",
    "        # macrostate\n",
    "        self.k = np.sum(self.state > 0)\n",
    "        self.s = np.sum(self.state)\n",
    "        # histogram and zero temperature DOS\n",
    "        # we store the log-DOS instead of the DOS (otherwise we would have overflow problems)\n",
    "        self.histogram = np.ones((self.N, self.N * np.max(costs))) \n",
    "        self.logdensity = np.zeros((self.N, self.N * np.max(costs)))  \n",
    "        # update parameter and acceptance ratio\n",
    "        self.f = f\n",
    "        self.acc_ratio = 0.\n",
    "\n",
    "    def wang_landau_move(self):\n",
    "        # elementary MC move, propose new microstate and accept it with p ~ 1/rho\n",
    "        j = random.randint(0, self.N-2)\n",
    "        wj = self.state[j]\n",
    "        new_wj = self.costs[random.randint(0, self.L-1)]\n",
    "        new_k = self.k + (wj == 0) - (new_wj == 0)\n",
    "        new_s = self.s - wj + new_wj \n",
    "        if random.random() < np.min([1, np.exp(self.logdensity[self.k, self.s] - self.logdensity[new_k, new_s])]):\n",
    "            self.state[j] = new_wj\n",
    "            self.k = new_k\n",
    "            self.s = new_s\n",
    "            self.acc_ratio += 1\n",
    "        return\n",
    "\n",
    "    def wang_landau_run(self, n_moves):\n",
    "        # perform n_moves wang landau elementary moves\n",
    "        self.acc_ratio = 0\n",
    "        for i in range(n_moves):\n",
    "            self.wang_landau_move()\n",
    "            self.histogram[self.k, self.s] += 1\n",
    "            self.logdensity[self.k, self.s] += np.log(self.f) # sum of logarithms instead of multiplication\n",
    "        self.acc_ratio /= n_moves\n",
    "        return\n",
    "    \n",
    "    def wang_landau(self, n_moves, n_rounds, threshold):\n",
    "        # MAIN LOOP OF THE ALGORITHM\n",
    "        # initial round\n",
    "        self.wang_landau_run(1000000)\n",
    "        # only valid elements will be used to check histogram flatness\n",
    "        # we consider valid those larger than 0.1 of the mean of the nonzero elements\n",
    "        self.valid = (self.histogram > 0.1 * self.histogram[self.histogram > 1].mean())\n",
    "        print('Initial run\\tf =', self.f, ' acc. ratio', round(self.acc_ratio,3),\n",
    "                         '\\tflatness:', round(self.hist_flatness(),3), '\\n')\n",
    "        # start subsequent rounds\n",
    "        for run in range(n_rounds):\n",
    "            # check flatness, restart histogram, update parameter\n",
    "            while True:\n",
    "                self.wang_landau_run(n_moves)\n",
    "                print(run, 'round\\tf =', self.f,  '\\tacc. ratio', round(self.acc_ratio,3),\n",
    "                           '\\tflatness:', round(self.hist_flatness(),3))\n",
    "                if self.hist_flatness() > threshold:\n",
    "                    self.histogram = np.zeros((self.N, self.N * self.costs[-1]))\n",
    "                    self.f = np.sqrt(self.f)\n",
    "                    print('Flat! Reseting histogram...\\n')\n",
    "                    break\n",
    "        return\n",
    "    \n",
    "    def hist_flatness(self):\n",
    "        # computes proportion of valid histogram points that are sufficiently flat\n",
    "        reshaped_hist = self.histogram[self.valid]\n",
    "        mu = np.mean(reshaped_hist)\n",
    "        return np.sum(reshaped_hist > 0.8*mu) / len(reshaped_hist)"
   ]
  },
  {
   "cell_type": "markdown",
   "metadata": {},
   "source": [
    "### Now, run the algorithm"
   ]
  },
  {
   "cell_type": "code",
   "execution_count": 96,
   "metadata": {
    "collapsed": false
   },
   "outputs": [
    {
     "name": "stdout",
     "output_type": "stream",
     "text": [
      "Initial run\tf = 2.71828182846  acc. ratio 0.624 \tflatness: 0.673 \n",
      "\n",
      "0 round\tf = 2.71828182846 \tacc. ratio 0.552 \tflatness: 0.722\n",
      "0 round\tf = 2.71828182846 \tacc. ratio 0.541 \tflatness: 0.761\n",
      "0 round\tf = 2.71828182846 \tacc. ratio 0.513 \tflatness: 0.812\n",
      "0 round\tf = 2.71828182846 \tacc. ratio 0.517 \tflatness: 0.84\n",
      "0 round\tf = 2.71828182846 \tacc. ratio 0.498 \tflatness: 0.889\n",
      "0 round\tf = 2.71828182846 \tacc. ratio 0.514 \tflatness: 0.905\n",
      "0 round\tf = 2.71828182846 \tacc. ratio 0.482 \tflatness: 0.94\n",
      "0 round\tf = 2.71828182846 \tacc. ratio 0.494 \tflatness: 0.962\n",
      "Flat! Reseting histogram...\n",
      "\n",
      "1 round\tf = 1.6487212707 \tacc. ratio 0.28 \tflatness: 0.062\n",
      "1 round\tf = 1.6487212707 \tacc. ratio 0.359 \tflatness: 0.416\n",
      "1 round\tf = 1.6487212707 \tacc. ratio 0.461 \tflatness: 0.547\n",
      "1 round\tf = 1.6487212707 \tacc. ratio 0.477 \tflatness: 0.606\n",
      "1 round\tf = 1.6487212707 \tacc. ratio 0.512 \tflatness: 0.694\n",
      "1 round\tf = 1.6487212707 \tacc. ratio 0.518 \tflatness: 0.803\n",
      "1 round\tf = 1.6487212707 \tacc. ratio 0.49 \tflatness: 0.912\n",
      "1 round\tf = 1.6487212707 \tacc. ratio 0.483 \tflatness: 0.943\n",
      "1 round\tf = 1.6487212707 \tacc. ratio 0.503 \tflatness: 0.992\n",
      "Flat! Reseting histogram...\n",
      "\n",
      "2 round\tf = 1.28402541669 \tacc. ratio 0.261 \tflatness: 0.037\n",
      "2 round\tf = 1.28402541669 \tacc. ratio 0.355 \tflatness: 0.392\n",
      "2 round\tf = 1.28402541669 \tacc. ratio 0.469 \tflatness: 0.579\n",
      "2 round\tf = 1.28402541669 \tacc. ratio 0.524 \tflatness: 0.665\n",
      "2 round\tf = 1.28402541669 \tacc. ratio 0.511 \tflatness: 0.768\n",
      "2 round\tf = 1.28402541669 \tacc. ratio 0.49 \tflatness: 0.775\n",
      "2 round\tf = 1.28402541669 \tacc. ratio 0.526 \tflatness: 0.915\n",
      "2 round\tf = 1.28402541669 \tacc. ratio 0.538 \tflatness: 0.989\n",
      "Flat! Reseting histogram...\n",
      "\n",
      "3 round\tf = 1.13314845307 \tacc. ratio 0.263 \tflatness: 0.066\n",
      "3 round\tf = 1.13314845307 \tacc. ratio 0.362 \tflatness: 0.347\n",
      "3 round\tf = 1.13314845307 \tacc. ratio 0.466 \tflatness: 0.531\n",
      "3 round\tf = 1.13314845307 \tacc. ratio 0.505 \tflatness: 0.592\n",
      "3 round\tf = 1.13314845307 \tacc. ratio 0.527 \tflatness: 0.684\n",
      "3 round\tf = 1.13314845307 \tacc. ratio 0.541 \tflatness: 0.761\n",
      "3 round\tf = 1.13314845307 \tacc. ratio 0.512 \tflatness: 0.828\n",
      "3 round\tf = 1.13314845307 \tacc. ratio 0.529 \tflatness: 0.9\n",
      "3 round\tf = 1.13314845307 \tacc. ratio 0.511 \tflatness: 0.953\n",
      "Flat! Reseting histogram...\n",
      "\n",
      "4 round\tf = 1.06449445892 \tacc. ratio 0.29 \tflatness: 0.28\n",
      "4 round\tf = 1.06449445892 \tacc. ratio 0.431 \tflatness: 0.468\n",
      "4 round\tf = 1.06449445892 \tacc. ratio 0.468 \tflatness: 0.582\n",
      "4 round\tf = 1.06449445892 \tacc. ratio 0.53 \tflatness: 0.653\n",
      "4 round\tf = 1.06449445892 \tacc. ratio 0.565 \tflatness: 0.749\n",
      "4 round\tf = 1.06449445892 \tacc. ratio 0.514 \tflatness: 0.824\n",
      "4 round\tf = 1.06449445892 \tacc. ratio 0.546 \tflatness: 0.955\n",
      "Flat! Reseting histogram...\n",
      "\n",
      "5 round\tf = 1.0317434075 \tacc. ratio 0.308 \tflatness: 0.386\n",
      "5 round\tf = 1.0317434075 \tacc. ratio 0.413 \tflatness: 0.492\n",
      "5 round\tf = 1.0317434075 \tacc. ratio 0.45 \tflatness: 0.549\n",
      "5 round\tf = 1.0317434075 \tacc. ratio 0.534 \tflatness: 0.627\n",
      "5 round\tf = 1.0317434075 \tacc. ratio 0.542 \tflatness: 0.718\n",
      "5 round\tf = 1.0317434075 \tacc. ratio 0.534 \tflatness: 0.778\n",
      "5 round\tf = 1.0317434075 \tacc. ratio 0.529 \tflatness: 0.801\n",
      "5 round\tf = 1.0317434075 \tacc. ratio 0.529 \tflatness: 0.847\n",
      "5 round\tf = 1.0317434075 \tacc. ratio 0.532 \tflatness: 0.885\n",
      "5 round\tf = 1.0317434075 \tacc. ratio 0.521 \tflatness: 0.909\n",
      "5 round\tf = 1.0317434075 \tacc. ratio 0.528 \tflatness: 0.93\n",
      "5 round\tf = 1.0317434075 \tacc. ratio 0.567 \tflatness: 0.976\n",
      "Flat! Reseting histogram...\n",
      "\n",
      "6 round\tf = 1.01574770859 \tacc. ratio 0.384 \tflatness: 0.501\n",
      "6 round\tf = 1.01574770859 \tacc. ratio 0.417 \tflatness: 0.535\n",
      "6 round\tf = 1.01574770859 \tacc. ratio 0.489 \tflatness: 0.605\n",
      "6 round\tf = 1.01574770859 \tacc. ratio 0.502 \tflatness: 0.644\n",
      "6 round\tf = 1.01574770859 \tacc. ratio 0.518 \tflatness: 0.736\n",
      "6 round\tf = 1.01574770859 \tacc. ratio 0.53 \tflatness: 0.807\n",
      "6 round\tf = 1.01574770859 \tacc. ratio 0.534 \tflatness: 0.857\n",
      "6 round\tf = 1.01574770859 \tacc. ratio 0.546 \tflatness: 0.906\n",
      "6 round\tf = 1.01574770859 \tacc. ratio 0.547 \tflatness: 0.93\n",
      "6 round\tf = 1.01574770859 \tacc. ratio 0.536 \tflatness: 0.951\n",
      "Flat! Reseting histogram...\n",
      "\n",
      "7 round\tf = 1.00784309721 \tacc. ratio 0.397 \tflatness: 0.492\n",
      "7 round\tf = 1.00784309721 \tacc. ratio 0.501 \tflatness: 0.631\n",
      "7 round\tf = 1.00784309721 \tacc. ratio 0.494 \tflatness: 0.681\n",
      "7 round\tf = 1.00784309721 \tacc. ratio 0.507 \tflatness: 0.72\n",
      "7 round\tf = 1.00784309721 \tacc. ratio 0.461 \tflatness: 0.757\n",
      "7 round\tf = 1.00784309721 \tacc. ratio 0.55 \tflatness: 0.808\n",
      "7 round\tf = 1.00784309721 \tacc. ratio 0.54 \tflatness: 0.845\n",
      "7 round\tf = 1.00784309721 \tacc. ratio 0.52 \tflatness: 0.879\n",
      "7 round\tf = 1.00784309721 \tacc. ratio 0.54 \tflatness: 0.904\n",
      "7 round\tf = 1.00784309721 \tacc. ratio 0.488 \tflatness: 0.918\n",
      "7 round\tf = 1.00784309721 \tacc. ratio 0.511 \tflatness: 0.94\n",
      "7 round\tf = 1.00784309721 \tacc. ratio 0.535 \tflatness: 0.966\n",
      "Flat! Reseting histogram...\n",
      "\n",
      "8 round\tf = 1.00391388934 \tacc. ratio 0.496 \tflatness: 0.597\n",
      "8 round\tf = 1.00391388934 \tacc. ratio 0.481 \tflatness: 0.653\n",
      "8 round\tf = 1.00391388934 \tacc. ratio 0.525 \tflatness: 0.733\n",
      "8 round\tf = 1.00391388934 \tacc. ratio 0.52 \tflatness: 0.772\n",
      "8 round\tf = 1.00391388934 \tacc. ratio 0.525 \tflatness: 0.823\n",
      "8 round\tf = 1.00391388934 \tacc. ratio 0.498 \tflatness: 0.837\n",
      "8 round\tf = 1.00391388934 \tacc. ratio 0.476 \tflatness: 0.839\n",
      "8 round\tf = 1.00391388934 \tacc. ratio 0.536 \tflatness: 0.875\n",
      "8 round\tf = 1.00391388934 \tacc. ratio 0.514 \tflatness: 0.899\n",
      "8 round\tf = 1.00391388934 \tacc. ratio 0.557 \tflatness: 0.916\n",
      "8 round\tf = 1.00391388934 \tacc. ratio 0.536 \tflatness: 0.934\n",
      "8 round\tf = 1.00391388934 \tacc. ratio 0.537 \tflatness: 0.945\n",
      "8 round\tf = 1.00391388934 \tacc. ratio 0.501 \tflatness: 0.957\n",
      "Flat! Reseting histogram...\n",
      "\n",
      "9 round\tf = 1.00195503359 \tacc. ratio 0.496 \tflatness: 0.556\n",
      "9 round\tf = 1.00195503359 \tacc. ratio 0.52 \tflatness: 0.633\n",
      "9 round\tf = 1.00195503359 \tacc. ratio 0.525 \tflatness: 0.679\n",
      "9 round\tf = 1.00195503359 \tacc. ratio 0.51 \tflatness: 0.715\n",
      "9 round\tf = 1.00195503359 \tacc. ratio 0.538 \tflatness: 0.744\n",
      "9 round\tf = 1.00195503359 \tacc. ratio 0.552 \tflatness: 0.809\n",
      "9 round\tf = 1.00195503359 \tacc. ratio 0.47 \tflatness: 0.802\n",
      "9 round\tf = 1.00195503359 \tacc. ratio 0.495 \tflatness: 0.812\n",
      "9 round\tf = 1.00195503359 \tacc. ratio 0.54 \tflatness: 0.847\n",
      "9 round\tf = 1.00195503359 \tacc. ratio 0.534 \tflatness: 0.872\n",
      "9 round\tf = 1.00195503359 \tacc. ratio 0.505 \tflatness: 0.882\n",
      "9 round\tf = 1.00195503359 \tacc. ratio 0.563 \tflatness: 0.915\n",
      "9 round\tf = 1.00195503359 \tacc. ratio 0.555 \tflatness: 0.931\n",
      "9 round\tf = 1.00195503359 \tacc. ratio 0.5 \tflatness: 0.94\n",
      "9 round\tf = 1.00195503359 \tacc. ratio 0.489 \tflatness: 0.933\n",
      "9 round\tf = 1.00195503359 \tacc. ratio 0.51 \tflatness: 0.93\n",
      "9 round\tf = 1.00195503359 \tacc. ratio 0.534 \tflatness: 0.95\n",
      "9 round\tf = 1.00195503359 \tacc. ratio 0.531 \tflatness: 0.955\n",
      "Flat! Reseting histogram...\n",
      "\n"
     ]
    }
   ],
   "source": [
    "E = egonet(84)\n",
    "# 1000000 attempted moves per round, 10 rounds, \n",
    "# and at least 0.9 of the valid histogram entries must be highe than 0.8*mean(histogram)\n",
    "E.wang_landau(500000, 10, 0.95)  "
   ]
  },
  {
   "cell_type": "markdown",
   "metadata": {},
   "source": [
    "## 3- Visualization \n",
    "\n",
    "Before plotting the DOS, we need to fit the grand-canonical ensemble to the RS dataset. Let us rename the fitting parameters $x=e^{\\lambda}$ and $y=e^{\\mu}$. Then, we can express the density of states as:\n",
    "\n",
    "$$P(k,s) \\propto \\rho(k,s) x^k y^s$$\n",
    "\n",
    "The fitted values of $x$ and $y$ are obtained with the saddle point equations.\n",
    "\n",
    "$$\\langle k \\rangle = \\frac{N\\sum_r x y^{s_r}}{1 + \\sum_r x y^{s_r}} \n",
    "\\qquad\\qquad  \\langle s \\rangle  = \\frac{N\\sum_r s_r x y^{s_r}}{1 + \\sum_r x y^{s_r}} $$ \n",
    "\n",
    "RS average values of $\\langle k \\rangle= 73.63$ and $\\langle s \\rangle = 145.45$ give $x= 6.59154$ and $y=0.557557$.\n",
    "\n",
    "*(read the paper [here]() for the specifics)*\n",
    "\n",
    "Now let's plot it!"
   ]
  },
  {
   "cell_type": "code",
   "execution_count": 151,
   "metadata": {
    "collapsed": false
   },
   "outputs": [
    {
     "name": "stderr",
     "output_type": "stream",
     "text": [
      "/home/mjimenez/anaconda3/envs/py35/lib/python3.5/site-packages/ipykernel/__main__.py:21: RuntimeWarning: divide by zero encountered in log\n"
     ]
    },
    {
     "data": {
      "text/plain": [
       "<matplotlib.text.Text at 0x7fa6e8842e10>"
      ]
     },
     "execution_count": 151,
     "metadata": {},
     "output_type": "execute_result"
    },
    {
     "data": {
      "image/png": "[encoded data removed]",
      "text/plain": [
       "<matplotlib.figure.Figure at 0x7fa6e88e1518>"
      ]
     },
     "metadata": {},
     "output_type": "display_data"
    }
   ],
   "source": [
    "k_av, s_av = np.mean(k_vec), np.mean(s_vec)\n",
    "x, y = 6.59154, 0.557557\n",
    "kmax, smax = np.shape(E.logdensity)\n",
    "# reweight the zero temperature density by the Gibbs factor\n",
    "Gibbs = np.array([[(np.log(x)*k + np.log(y)*s)*(s >= k) for s in range(smax)] for k in range(kmax)])\n",
    "# rescale the density so we can take exponential\n",
    "A=700\n",
    "rescaled_prob = np.exp(E.logdensity - A + Gibbs) * E.valid\n",
    "# normalize the resulting probability\n",
    "rescaled_prob /= np.sum(rescaledprob[E.valid])\n",
    "\n",
    "sv = np.linspace(0, 5*N, 5*N)\n",
    "kv = np.linspace(0, N, N)\n",
    "KV, SV = np.meshgrid(kv,sv)\n",
    "\n",
    "fig, ax = plt.subplots(figsize=(7,4))\n",
    "# allowed region is s>=k and s<= k*s_max\n",
    "kx = np.arange(0,84)\n",
    "ax.plot(kx, kx,'k')\n",
    "ax.plot(kx, 5*kx, 'k')\n",
    "# plot the RS data and its averages\n",
    "ax.plot(k_vec, s_vec, 'D', c='red', ms=4, label='RS data')\n",
    "ax.plot(k_av, s_av, '+', c='lime', mew=4, ms=12, label='Averages)\n",
    "# plot the log-density (warning because of log(0)=-inf but these values won't appear on the plot)\n",
    "contour = ax.contourf(KV, SV, np.log(rescaled_prob.T),\n",
    "                      levels=[-80,-70,-60,-50,-40,-30,-20,-10,0], cmap='Blues')\n",
    "        \n",
    "plt.colorbar(contour)\n",
    "ax.set(xlabel=r'$k$', ylabel=r'$s$', xlim=[0,83], ylim=[0, 300])\n",
    "ax.yaxis.label.set_size(18)\n",
    "ax.xaxis.label.set_size(18)\n",
    "ax.text(10, 200, r'$\\ln\\,P\\,(k,s)$', fontsize=16)"
   ]
  },
  {
   "cell_type": "markdown",
   "metadata": {},
   "source": [
    "The green cross marks the $\\langle k \\rangle$ and $\\langle s \\rangle$ RS empirical averages and the red diamods represent the $84$ individual ego-networks. We have fitted the grand-canonical ensemble such that the expected $k$ and $s$ coincide with the empirical averages. The blue-shaded regions are the contour plot of the logarithmic density of states. Finally, the black lines delimit domain for the allowed configurations: $s\\geq k$ and $s\\leq 5k$."
   ]
  }
 ],
 "metadata": {
  "anaconda-cloud": {},
  "kernelspec": {
   "display_name": "Python [conda env:py35]",
   "language": "python",
   "name": "conda-env-py35-py"
  },
  "language_info": {
   "codemirror_mode": {
    "name": "ipython",
    "version": 3
   },
   "file_extension": ".py",
   "mimetype": "text/x-python",
   "name": "python",
   "nbconvert_exporter": "python",
   "pygments_lexer": "ipython3",
   "version": "3.5.2"
  }
 },
 "nbformat": 4,
 "nbformat_minor": 1
}
